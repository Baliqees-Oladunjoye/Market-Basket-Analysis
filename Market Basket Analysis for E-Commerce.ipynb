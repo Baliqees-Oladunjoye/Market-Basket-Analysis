{
 "cells": [
  {
   "cell_type": "markdown",
   "id": "18065a04",
   "metadata": {},
   "source": [
    "# Market Basket Analysis using Apriori Algorithm"
   ]
  },
  {
   "cell_type": "markdown",
   "id": "1eec0cd9",
   "metadata": {},
   "source": [
    "Market Basket Analysis\n",
    "Market basket analysis scrutinizes the products customers tend to buy together, and uses the information to decide which products should be cross-sold or promoted together. The term arises from the shopping carts supermarket shoppers fill up during a shopping trip.\n",
    "\n",
    "Association Rule Mining is used when we want to find an association between different objects in a set, find frequent patterns in a transaction database, relational databases or any other information repository.\n",
    "\n",
    "The most common approach to find these patterns is Market Basket Analysis, which is a key technique used by large retailers like Amazon, Flipkart, etc to analyze customer buying habits by finding associations between the different items that customers place in their “shopping baskets”. The discovery of these associations can help retailers develop marketing strategies by gaining insight into which items are frequently purchased together by customers. The strategies may include:\n",
    "\n",
    "Changing the store layout according to trends\n",
    "Customers behavior analysis\n",
    "Catalog Design\n",
    "Cross marketing on online stores\n",
    "Customized emails with add-on sales, etc.\n",
    "Matrices\n",
    "Support : Its the default popularity of an item. In mathematical terms, the support of item A is the ratio of transactions involving A to the total number of transactions.\n",
    "\n",
    "Confidence : Likelihood that customer who bought both A and B. It is the ratio of the number of transactions involving both A and B and the number of transactions involving B.\n",
    "\n",
    "Confidence(A => B) = Support(A, B)/Support(A)\n",
    "Lift : Increase in the sale of A when you sell B.\n",
    "\n",
    "Lift(A => B) = Confidence(A, B)/Support(B)\n",
    "\n",
    "Lift (A => B) = 1 means that there is no correlation within the itemset.\n",
    "\n",
    "Lift (A => B) > 1 means that there is a positive correlation within the itemset, i.e., products in the itemset, A, and B, are more likely to be bought together.\n",
    "\n",
    "Lift (A => B) < 1 means that there is a negative correlation within the itemset, i.e., products in itemset, A, and B, are unlikely to be bought together.\n",
    "\n",
    "Apriori Algorithm: Apriori algorithm assumes that any subset of a frequent itemset must be frequent. Its the algorithm behind Market Basket Analysis. Say, a transaction containing {Grapes, Apple, Mango} also contains {Grapes, Mango}. So, according to the principle of Apriori, if {Grapes, Apple, Mango} is frequent, then {Grapes, Mango} must also be frequent."
   ]
  },
  {
   "cell_type": "code",
   "execution_count": 1,
   "id": "ac32aa43",
   "metadata": {},
   "outputs": [],
   "source": [
    "#importing the Necessary Libaries\n",
    "import pandas as pd\n",
    "import numpy as np\n",
    "import matplotlib.pyplot as plt\n",
    "import seaborn as sns\n",
    "%matplotlib inline"
   ]
  },
  {
   "cell_type": "code",
   "execution_count": 2,
   "id": "db6586ed",
   "metadata": {},
   "outputs": [
    {
     "data": {
      "text/html": [
       "<div>\n",
       "<style scoped>\n",
       "    .dataframe tbody tr th:only-of-type {\n",
       "        vertical-align: middle;\n",
       "    }\n",
       "\n",
       "    .dataframe tbody tr th {\n",
       "        vertical-align: top;\n",
       "    }\n",
       "\n",
       "    .dataframe thead th {\n",
       "        text-align: right;\n",
       "    }\n",
       "</style>\n",
       "<table border=\"1\" class=\"dataframe\">\n",
       "  <thead>\n",
       "    <tr style=\"text-align: right;\">\n",
       "      <th></th>\n",
       "      <th>Member_number</th>\n",
       "      <th>Date</th>\n",
       "      <th>itemDescription</th>\n",
       "    </tr>\n",
       "  </thead>\n",
       "  <tbody>\n",
       "    <tr>\n",
       "      <th>0</th>\n",
       "      <td>1808</td>\n",
       "      <td>21-07-2015</td>\n",
       "      <td>tropical fruit</td>\n",
       "    </tr>\n",
       "    <tr>\n",
       "      <th>1</th>\n",
       "      <td>2552</td>\n",
       "      <td>05-01-2015</td>\n",
       "      <td>whole milk</td>\n",
       "    </tr>\n",
       "    <tr>\n",
       "      <th>2</th>\n",
       "      <td>2300</td>\n",
       "      <td>19-09-2015</td>\n",
       "      <td>pip fruit</td>\n",
       "    </tr>\n",
       "    <tr>\n",
       "      <th>3</th>\n",
       "      <td>1187</td>\n",
       "      <td>12-12-2015</td>\n",
       "      <td>other vegetables</td>\n",
       "    </tr>\n",
       "    <tr>\n",
       "      <th>4</th>\n",
       "      <td>3037</td>\n",
       "      <td>01-02-2015</td>\n",
       "      <td>whole milk</td>\n",
       "    </tr>\n",
       "  </tbody>\n",
       "</table>\n",
       "</div>"
      ],
      "text/plain": [
       "   Member_number        Date   itemDescription\n",
       "0           1808  21-07-2015    tropical fruit\n",
       "1           2552  05-01-2015        whole milk\n",
       "2           2300  19-09-2015         pip fruit\n",
       "3           1187  12-12-2015  other vegetables\n",
       "4           3037  01-02-2015        whole milk"
      ]
     },
     "execution_count": 2,
     "metadata": {},
     "output_type": "execute_result"
    }
   ],
   "source": [
    "#load Dataset\n",
    "ma = pd.read_csv(r\"C:\\Users\\Baliqees\\Desktop\\Filt\\Dataset\\Market Basket Analysis - Groceries_dataset.csv\")\n",
    "ma.head()"
   ]
  },
  {
   "cell_type": "markdown",
   "id": "770f68bf",
   "metadata": {},
   "source": [
    "EDA "
   ]
  },
  {
   "cell_type": "code",
   "execution_count": 3,
   "id": "fcf3c839",
   "metadata": {
    "scrolled": true
   },
   "outputs": [
    {
     "data": {
      "text/plain": [
       "Member_number      0\n",
       "Date               0\n",
       "itemDescription    0\n",
       "dtype: int64"
      ]
     },
     "execution_count": 3,
     "metadata": {},
     "output_type": "execute_result"
    }
   ],
   "source": [
    "ma.isna().sum()"
   ]
  },
  {
   "cell_type": "markdown",
   "id": "0f93ba0d",
   "metadata": {},
   "source": [
    "There are no missing data in this dataset"
   ]
  },
  {
   "cell_type": "code",
   "execution_count": 4,
   "id": "a9aa0e7b",
   "metadata": {
    "scrolled": false
   },
   "outputs": [
    {
     "name": "stdout",
     "output_type": "stream",
     "text": [
      "<class 'pandas.core.frame.DataFrame'>\n",
      "RangeIndex: 38765 entries, 0 to 38764\n",
      "Data columns (total 3 columns):\n",
      " #   Column           Non-Null Count  Dtype \n",
      "---  ------           --------------  ----- \n",
      " 0   Member_number    38765 non-null  int64 \n",
      " 1   Date             38765 non-null  object\n",
      " 2   itemDescription  38765 non-null  object\n",
      "dtypes: int64(1), object(2)\n",
      "memory usage: 908.7+ KB\n"
     ]
    }
   ],
   "source": [
    "#checking for the overview of the data\n",
    "ma.info()"
   ]
  },
  {
   "cell_type": "markdown",
   "id": "0579f0d6",
   "metadata": {},
   "source": [
    "Date is not suppose to be an object, hence it needs to be converted to datetime format"
   ]
  },
  {
   "cell_type": "code",
   "execution_count": 5,
   "id": "f1a7d5d3",
   "metadata": {},
   "outputs": [
    {
     "name": "stdout",
     "output_type": "stream",
     "text": [
      "<class 'pandas.core.frame.DataFrame'>\n",
      "RangeIndex: 38765 entries, 0 to 38764\n",
      "Data columns (total 4 columns):\n",
      " #   Column           Non-Null Count  Dtype         \n",
      "---  ------           --------------  -----         \n",
      " 0   Member_number    38765 non-null  int64         \n",
      " 1   Date             38765 non-null  object        \n",
      " 2   itemDescription  38765 non-null  object        \n",
      " 3   date             38765 non-null  datetime64[ns]\n",
      "dtypes: datetime64[ns](1), int64(1), object(2)\n",
      "memory usage: 1.2+ MB\n"
     ]
    }
   ],
   "source": [
    "ma['date'] = pd.to_datetime (ma['Date'])\n",
    "ma.info()"
   ]
  },
  {
   "cell_type": "code",
   "execution_count": 6,
   "id": "b60e241e",
   "metadata": {},
   "outputs": [
    {
     "data": {
      "text/plain": [
       "(38765, 4)"
      ]
     },
     "execution_count": 6,
     "metadata": {},
     "output_type": "execute_result"
    }
   ],
   "source": [
    "ma.shape"
   ]
  },
  {
   "cell_type": "markdown",
   "id": "5291eced",
   "metadata": {},
   "source": [
    "The dataset contains 38765 rows and 4 columns"
   ]
  },
  {
   "cell_type": "markdown",
   "id": "b67ccd5e",
   "metadata": {},
   "source": [
    "Now lets check for duplicate"
   ]
  },
  {
   "cell_type": "code",
   "execution_count": 7,
   "id": "f2ad1675",
   "metadata": {},
   "outputs": [
    {
     "data": {
      "text/plain": [
       "759"
      ]
     },
     "execution_count": 7,
     "metadata": {},
     "output_type": "execute_result"
    }
   ],
   "source": [
    "ma.duplicated().sum()"
   ]
  },
  {
   "cell_type": "markdown",
   "id": "47c01a12",
   "metadata": {},
   "source": [
    "There are 759 duplicates"
   ]
  },
  {
   "cell_type": "markdown",
   "id": "cc1a06ed",
   "metadata": {},
   "source": [
    "Lets drop the duplicates"
   ]
  },
  {
   "cell_type": "code",
   "execution_count": 8,
   "id": "332f3087",
   "metadata": {},
   "outputs": [
    {
     "data": {
      "text/html": [
       "<div>\n",
       "<style scoped>\n",
       "    .dataframe tbody tr th:only-of-type {\n",
       "        vertical-align: middle;\n",
       "    }\n",
       "\n",
       "    .dataframe tbody tr th {\n",
       "        vertical-align: top;\n",
       "    }\n",
       "\n",
       "    .dataframe thead th {\n",
       "        text-align: right;\n",
       "    }\n",
       "</style>\n",
       "<table border=\"1\" class=\"dataframe\">\n",
       "  <thead>\n",
       "    <tr style=\"text-align: right;\">\n",
       "      <th></th>\n",
       "      <th>Member_number</th>\n",
       "      <th>Date</th>\n",
       "      <th>itemDescription</th>\n",
       "      <th>date</th>\n",
       "    </tr>\n",
       "  </thead>\n",
       "  <tbody>\n",
       "    <tr>\n",
       "      <th>0</th>\n",
       "      <td>1808</td>\n",
       "      <td>21-07-2015</td>\n",
       "      <td>tropical fruit</td>\n",
       "      <td>2015-07-21</td>\n",
       "    </tr>\n",
       "    <tr>\n",
       "      <th>1</th>\n",
       "      <td>2552</td>\n",
       "      <td>05-01-2015</td>\n",
       "      <td>whole milk</td>\n",
       "      <td>2015-05-01</td>\n",
       "    </tr>\n",
       "    <tr>\n",
       "      <th>2</th>\n",
       "      <td>2300</td>\n",
       "      <td>19-09-2015</td>\n",
       "      <td>pip fruit</td>\n",
       "      <td>2015-09-19</td>\n",
       "    </tr>\n",
       "    <tr>\n",
       "      <th>3</th>\n",
       "      <td>1187</td>\n",
       "      <td>12-12-2015</td>\n",
       "      <td>other vegetables</td>\n",
       "      <td>2015-12-12</td>\n",
       "    </tr>\n",
       "    <tr>\n",
       "      <th>4</th>\n",
       "      <td>3037</td>\n",
       "      <td>01-02-2015</td>\n",
       "      <td>whole milk</td>\n",
       "      <td>2015-01-02</td>\n",
       "    </tr>\n",
       "    <tr>\n",
       "      <th>...</th>\n",
       "      <td>...</td>\n",
       "      <td>...</td>\n",
       "      <td>...</td>\n",
       "      <td>...</td>\n",
       "    </tr>\n",
       "    <tr>\n",
       "      <th>38001</th>\n",
       "      <td>4471</td>\n",
       "      <td>08-10-2014</td>\n",
       "      <td>sliced cheese</td>\n",
       "      <td>2014-08-10</td>\n",
       "    </tr>\n",
       "    <tr>\n",
       "      <th>38002</th>\n",
       "      <td>2022</td>\n",
       "      <td>23-02-2014</td>\n",
       "      <td>candy</td>\n",
       "      <td>2014-02-23</td>\n",
       "    </tr>\n",
       "    <tr>\n",
       "      <th>38003</th>\n",
       "      <td>1097</td>\n",
       "      <td>16-04-2014</td>\n",
       "      <td>cake bar</td>\n",
       "      <td>2014-04-16</td>\n",
       "    </tr>\n",
       "    <tr>\n",
       "      <th>38004</th>\n",
       "      <td>1510</td>\n",
       "      <td>03-12-2014</td>\n",
       "      <td>fruit/vegetable juice</td>\n",
       "      <td>2014-03-12</td>\n",
       "    </tr>\n",
       "    <tr>\n",
       "      <th>38005</th>\n",
       "      <td>1521</td>\n",
       "      <td>26-12-2014</td>\n",
       "      <td>cat food</td>\n",
       "      <td>2014-12-26</td>\n",
       "    </tr>\n",
       "  </tbody>\n",
       "</table>\n",
       "<p>38006 rows × 4 columns</p>\n",
       "</div>"
      ],
      "text/plain": [
       "       Member_number        Date        itemDescription       date\n",
       "0               1808  21-07-2015         tropical fruit 2015-07-21\n",
       "1               2552  05-01-2015             whole milk 2015-05-01\n",
       "2               2300  19-09-2015              pip fruit 2015-09-19\n",
       "3               1187  12-12-2015       other vegetables 2015-12-12\n",
       "4               3037  01-02-2015             whole milk 2015-01-02\n",
       "...              ...         ...                    ...        ...\n",
       "38001           4471  08-10-2014          sliced cheese 2014-08-10\n",
       "38002           2022  23-02-2014                  candy 2014-02-23\n",
       "38003           1097  16-04-2014               cake bar 2014-04-16\n",
       "38004           1510  03-12-2014  fruit/vegetable juice 2014-03-12\n",
       "38005           1521  26-12-2014               cat food 2014-12-26\n",
       "\n",
       "[38006 rows x 4 columns]"
      ]
     },
     "execution_count": 8,
     "metadata": {},
     "output_type": "execute_result"
    }
   ],
   "source": [
    "ma.drop_duplicates(ignore_index=True)\n",
    "\n",
    "ma= ma.drop_duplicates(ignore_index=True)\n",
    "\n",
    "ma"
   ]
  },
  {
   "cell_type": "code",
   "execution_count": 9,
   "id": "c1a37f07",
   "metadata": {},
   "outputs": [
    {
     "data": {
      "text/plain": [
       "(38006, 4)"
      ]
     },
     "execution_count": 9,
     "metadata": {},
     "output_type": "execute_result"
    }
   ],
   "source": [
    "ma.shape"
   ]
  },
  {
   "cell_type": "markdown",
   "id": "f2c54c6c",
   "metadata": {},
   "source": [
    "After dropping the duplicate, we have 38006 rows left"
   ]
  },
  {
   "cell_type": "code",
   "execution_count": 10,
   "id": "1b7b35d3",
   "metadata": {
    "scrolled": true
   },
   "outputs": [
    {
     "data": {
      "text/html": [
       "<div>\n",
       "<style scoped>\n",
       "    .dataframe tbody tr th:only-of-type {\n",
       "        vertical-align: middle;\n",
       "    }\n",
       "\n",
       "    .dataframe tbody tr th {\n",
       "        vertical-align: top;\n",
       "    }\n",
       "\n",
       "    .dataframe thead th {\n",
       "        text-align: right;\n",
       "    }\n",
       "</style>\n",
       "<table border=\"1\" class=\"dataframe\">\n",
       "  <thead>\n",
       "    <tr style=\"text-align: right;\">\n",
       "      <th></th>\n",
       "      <th>Member_number</th>\n",
       "    </tr>\n",
       "  </thead>\n",
       "  <tbody>\n",
       "    <tr>\n",
       "      <th>count</th>\n",
       "      <td>38006.000000</td>\n",
       "    </tr>\n",
       "    <tr>\n",
       "      <th>mean</th>\n",
       "      <td>3003.361390</td>\n",
       "    </tr>\n",
       "    <tr>\n",
       "      <th>std</th>\n",
       "      <td>1153.659151</td>\n",
       "    </tr>\n",
       "    <tr>\n",
       "      <th>min</th>\n",
       "      <td>1000.000000</td>\n",
       "    </tr>\n",
       "    <tr>\n",
       "      <th>25%</th>\n",
       "      <td>2001.000000</td>\n",
       "    </tr>\n",
       "    <tr>\n",
       "      <th>50%</th>\n",
       "      <td>3005.000000</td>\n",
       "    </tr>\n",
       "    <tr>\n",
       "      <th>75%</th>\n",
       "      <td>4007.000000</td>\n",
       "    </tr>\n",
       "    <tr>\n",
       "      <th>max</th>\n",
       "      <td>5000.000000</td>\n",
       "    </tr>\n",
       "  </tbody>\n",
       "</table>\n",
       "</div>"
      ],
      "text/plain": [
       "       Member_number\n",
       "count   38006.000000\n",
       "mean     3003.361390\n",
       "std      1153.659151\n",
       "min      1000.000000\n",
       "25%      2001.000000\n",
       "50%      3005.000000\n",
       "75%      4007.000000\n",
       "max      5000.000000"
      ]
     },
     "execution_count": 10,
     "metadata": {},
     "output_type": "execute_result"
    }
   ],
   "source": [
    "ma.describe()"
   ]
  },
  {
   "cell_type": "code",
   "execution_count": 11,
   "id": "fb3f4111",
   "metadata": {
    "scrolled": false
   },
   "outputs": [
    {
     "data": {
      "text/plain": [
       "3180    35\n",
       "3737    33\n",
       "3050    32\n",
       "2051    31\n",
       "3915    30\n",
       "        ..\n",
       "4816     1\n",
       "4029     1\n",
       "4151     1\n",
       "4565     1\n",
       "2640     1\n",
       "Name: Member_number, Length: 3898, dtype: int64"
      ]
     },
     "execution_count": 11,
     "metadata": {},
     "output_type": "execute_result"
    }
   ],
   "source": [
    "ma[\"Member_number\"].value_counts()"
   ]
  },
  {
   "cell_type": "markdown",
   "id": "c1f4fb3e",
   "metadata": {},
   "source": [
    "Judging from the value counts, customer with the member number 3180 is a customer to keep, he/she has the highest returning rate"
   ]
  },
  {
   "cell_type": "markdown",
   "id": "d412df52",
   "metadata": {},
   "source": [
    "# Visualizing the Top Customers"
   ]
  },
  {
   "cell_type": "code",
   "execution_count": 12,
   "id": "103af8c3",
   "metadata": {
    "scrolled": true
   },
   "outputs": [
    {
     "data": {
      "image/png": "[encoded data removed]",
      "text/plain": [
       "<Figure size 432x288 with 1 Axes>"
      ]
     },
     "metadata": {
      "needs_background": "light"
     },
     "output_type": "display_data"
    }
   ],
   "source": [
    "ma[\"Member_number\"].value_counts().iloc[:10].plot(kind=\"bar\")\n",
    "plt.show()"
   ]
  },
  {
   "cell_type": "markdown",
   "id": "fc002572",
   "metadata": {},
   "source": [
    "These are the top 10 customers"
   ]
  },
  {
   "cell_type": "code",
   "execution_count": 13,
   "id": "bd2eb2ff",
   "metadata": {},
   "outputs": [
    {
     "data": {
      "text/plain": [
       "whole milk               2363\n",
       "other vegetables         1827\n",
       "rolls/buns               1646\n",
       "soda                     1453\n",
       "yogurt                   1285\n",
       "                         ... \n",
       "rubbing alcohol             5\n",
       "bags                        4\n",
       "baby cosmetics              3\n",
       "kitchen utensil             1\n",
       "preservation products       1\n",
       "Name: itemDescription, Length: 167, dtype: int64"
      ]
     },
     "execution_count": 13,
     "metadata": {},
     "output_type": "execute_result"
    }
   ],
   "source": [
    "ma[\"itemDescription\"].value_counts()"
   ]
  },
  {
   "cell_type": "markdown",
   "id": "ae9d7172",
   "metadata": {},
   "source": [
    "whole milk, other vegetables, rolls/buns..... are the best selling items"
   ]
  },
  {
   "cell_type": "markdown",
   "id": "47bb2044",
   "metadata": {},
   "source": [
    " # Visualizing the Best Selling Items"
   ]
  },
  {
   "cell_type": "code",
   "execution_count": 14,
   "id": "8412be8b",
   "metadata": {
    "scrolled": false
   },
   "outputs": [
    {
     "data": {
      "image/png": "[encoded data removed]",
      "text/plain": [
       "<Figure size 432x288 with 1 Axes>"
      ]
     },
     "metadata": {
      "needs_background": "light"
     },
     "output_type": "display_data"
    }
   ],
   "source": [
    "ma[\"itemDescription\"].value_counts().iloc[:10].plot(kind=\"bar\")\n",
    "plt.show()"
   ]
  },
  {
   "cell_type": "markdown",
   "id": "36b88629",
   "metadata": {},
   "source": [
    "These are the top 10 best selling items"
   ]
  },
  {
   "cell_type": "markdown",
   "id": "7c823d13",
   "metadata": {},
   "source": [
    " # Visualizing the least Selling Items"
   ]
  },
  {
   "cell_type": "code",
   "execution_count": 27,
   "id": "ca902a07",
   "metadata": {
    "scrolled": true
   },
   "outputs": [
    {
     "data": {
      "image/png": "[encoded data removed]",
      "text/plain": [
       "<Figure size 432x288 with 1 Axes>"
      ]
     },
     "metadata": {
      "needs_background": "light"
     },
     "output_type": "display_data"
    }
   ],
   "source": [
    "item_counts = ma[\"itemDescription\"].value_counts().nsmallest(10)\n",
    "item_counts.plot(kind=\"bar\")\n",
    "plt.xlabel(\"Item Description\")\n",
    "plt.ylabel(\"Count\")\n",
    "plt.title(\"Top 10 Least Common Items\")\n",
    "plt.show()"
   ]
  },
  {
   "cell_type": "markdown",
   "id": "58a74278",
   "metadata": {},
   "source": [
    "These are the least selling items"
   ]
  },
  {
   "cell_type": "code",
   "execution_count": 17,
   "id": "2cd90bdf",
   "metadata": {},
   "outputs": [],
   "source": [
    "#Since date is already in datetime format, let's extract month and year from it\n",
    "ma['Month'] = ma['date'].dt.to_period('M')\n",
    "#Let's group by month to count the item sold\n",
    "items_sold_by_month = ma.groupby('Month')['itemDescription'].count().reset_index()"
   ]
  },
  {
   "cell_type": "code",
   "execution_count": 18,
   "id": "66391806",
   "metadata": {
    "scrolled": true
   },
   "outputs": [
    {
     "data": {
      "image/png": "[encoded data removed]",
      "text/plain": [
       "<Figure size 720x432 with 1 Axes>"
      ]
     },
     "metadata": {
      "needs_background": "light"
     },
     "output_type": "display_data"
    }
   ],
   "source": [
    "# Convert the 'Month' column to string\n",
    "items_sold_by_month['Month'] = items_sold_by_month['Month'].astype(str)\n",
    "# Plotting the number of items sold by month\n",
    "plt.figure(figsize=(10, 6))\n",
    "plt.plot(items_sold_by_month['Month'], items_sold_by_month['itemDescription'], marker='o', linestyle='-', color='b')\n",
    "plt.title('Number of Items Sold by Month')\n",
    "plt.xlabel('Month')\n",
    "plt.ylabel('Number of Items Sold')\n",
    "plt.xticks(rotation=45)\n",
    "plt.grid(True)\n",
    "plt.show()"
   ]
  },
  {
   "cell_type": "markdown",
   "id": "83ab4e09",
   "metadata": {},
   "source": [
    "The month with the highest sales is August 2015, while the lowest is September 2014.I also notice a drop in September 2015."
   ]
  },
  {
   "cell_type": "code",
   "execution_count": 19,
   "id": "a8499177",
   "metadata": {},
   "outputs": [
    {
     "name": "stdout",
     "output_type": "stream",
     "text": [
      "      Member_number  itemDescription\n",
      "2120           3180               35\n",
      "2665           3737               33\n",
      "1994           3050               32\n",
      "1026           2051               31\n",
      "1388           2433               30\n",
      "...             ...              ...\n",
      "3067           4151                1\n",
      "3468           4565                1\n",
      "1590           2640                1\n",
      "3715           4816                1\n",
      "1666           2717                1\n",
      "\n",
      "[3898 rows x 2 columns]\n"
     ]
    }
   ],
   "source": [
    "\n",
    "\n",
    "# Count the number of items bought by each customer\n",
    "items_bought_by_customer= ma.groupby('Member_number')['itemDescription'].count().reset_index()\n",
    "\n",
    "# Sort the customers by the number of items bought (descending order)\n",
    "Customers_Level = items_bought_by_customer.sort_values(by='itemDescription', ascending=False)\n",
    "\n",
    "print(Customers_Level)"
   ]
  },
  {
   "cell_type": "code",
   "execution_count": 20,
   "id": "2558258a",
   "metadata": {
    "scrolled": true
   },
   "outputs": [
    {
     "data": {
      "text/html": [
       "<div>\n",
       "<style scoped>\n",
       "    .dataframe tbody tr th:only-of-type {\n",
       "        vertical-align: middle;\n",
       "    }\n",
       "\n",
       "    .dataframe tbody tr th {\n",
       "        vertical-align: top;\n",
       "    }\n",
       "\n",
       "    .dataframe thead th {\n",
       "        text-align: right;\n",
       "    }\n",
       "</style>\n",
       "<table border=\"1\" class=\"dataframe\">\n",
       "  <thead>\n",
       "    <tr style=\"text-align: right;\">\n",
       "      <th></th>\n",
       "      <th>Member_number</th>\n",
       "      <th>Date</th>\n",
       "      <th>itemDescription</th>\n",
       "      <th>date</th>\n",
       "      <th>Month</th>\n",
       "      <th>single_transaction</th>\n",
       "    </tr>\n",
       "  </thead>\n",
       "  <tbody>\n",
       "    <tr>\n",
       "      <th>38001</th>\n",
       "      <td>4471</td>\n",
       "      <td>08-10-2014</td>\n",
       "      <td>sliced cheese</td>\n",
       "      <td>2014-08-10</td>\n",
       "      <td>2014-08</td>\n",
       "      <td>4471_08-10-2014</td>\n",
       "    </tr>\n",
       "    <tr>\n",
       "      <th>38002</th>\n",
       "      <td>2022</td>\n",
       "      <td>23-02-2014</td>\n",
       "      <td>candy</td>\n",
       "      <td>2014-02-23</td>\n",
       "      <td>2014-02</td>\n",
       "      <td>2022_23-02-2014</td>\n",
       "    </tr>\n",
       "    <tr>\n",
       "      <th>38003</th>\n",
       "      <td>1097</td>\n",
       "      <td>16-04-2014</td>\n",
       "      <td>cake bar</td>\n",
       "      <td>2014-04-16</td>\n",
       "      <td>2014-04</td>\n",
       "      <td>1097_16-04-2014</td>\n",
       "    </tr>\n",
       "    <tr>\n",
       "      <th>38004</th>\n",
       "      <td>1510</td>\n",
       "      <td>03-12-2014</td>\n",
       "      <td>fruit/vegetable juice</td>\n",
       "      <td>2014-03-12</td>\n",
       "      <td>2014-03</td>\n",
       "      <td>1510_03-12-2014</td>\n",
       "    </tr>\n",
       "    <tr>\n",
       "      <th>38005</th>\n",
       "      <td>1521</td>\n",
       "      <td>26-12-2014</td>\n",
       "      <td>cat food</td>\n",
       "      <td>2014-12-26</td>\n",
       "      <td>2014-12</td>\n",
       "      <td>1521_26-12-2014</td>\n",
       "    </tr>\n",
       "  </tbody>\n",
       "</table>\n",
       "</div>"
      ],
      "text/plain": [
       "       Member_number        Date        itemDescription       date    Month  \\\n",
       "38001           4471  08-10-2014          sliced cheese 2014-08-10  2014-08   \n",
       "38002           2022  23-02-2014                  candy 2014-02-23  2014-02   \n",
       "38003           1097  16-04-2014               cake bar 2014-04-16  2014-04   \n",
       "38004           1510  03-12-2014  fruit/vegetable juice 2014-03-12  2014-03   \n",
       "38005           1521  26-12-2014               cat food 2014-12-26  2014-12   \n",
       "\n",
       "      single_transaction  \n",
       "38001    4471_08-10-2014  \n",
       "38002    2022_23-02-2014  \n",
       "38003    1097_16-04-2014  \n",
       "38004    1510_03-12-2014  \n",
       "38005    1521_26-12-2014  "
      ]
     },
     "execution_count": 20,
     "metadata": {},
     "output_type": "execute_result"
    }
   ],
   "source": [
    "ma['single_transaction'] = ma['Member_number'].astype(str) + '_' + ma['Date'].astype(str)\n",
    "\n",
    "ma.tail()"
   ]
  },
  {
   "cell_type": "markdown",
   "id": "3e100645",
   "metadata": {},
   "source": [
    "The “single_transaction” variable combines the member number, and date, and tells us the item purchased in one receipt."
   ]
  },
  {
   "cell_type": "markdown",
   "id": "1241711f",
   "metadata": {},
   "source": [
    "#Now, let’s pivot this table to convert the items into columns and the transaction into rows:"
   ]
  },
  {
   "cell_type": "code",
   "execution_count": 21,
   "id": "cf96581b",
   "metadata": {},
   "outputs": [
    {
     "data": {
      "text/html": [
       "<div>\n",
       "<style scoped>\n",
       "    .dataframe tbody tr th:only-of-type {\n",
       "        vertical-align: middle;\n",
       "    }\n",
       "\n",
       "    .dataframe tbody tr th {\n",
       "        vertical-align: top;\n",
       "    }\n",
       "\n",
       "    .dataframe thead th {\n",
       "        text-align: right;\n",
       "    }\n",
       "</style>\n",
       "<table border=\"1\" class=\"dataframe\">\n",
       "  <thead>\n",
       "    <tr style=\"text-align: right;\">\n",
       "      <th>itemDescription</th>\n",
       "      <th>Instant food products</th>\n",
       "      <th>UHT-milk</th>\n",
       "      <th>abrasive cleaner</th>\n",
       "      <th>artif. sweetener</th>\n",
       "      <th>baby cosmetics</th>\n",
       "      <th>bags</th>\n",
       "      <th>baking powder</th>\n",
       "      <th>bathroom cleaner</th>\n",
       "      <th>beef</th>\n",
       "      <th>berries</th>\n",
       "      <th>...</th>\n",
       "      <th>turkey</th>\n",
       "      <th>vinegar</th>\n",
       "      <th>waffles</th>\n",
       "      <th>whipped/sour cream</th>\n",
       "      <th>whisky</th>\n",
       "      <th>white bread</th>\n",
       "      <th>white wine</th>\n",
       "      <th>whole milk</th>\n",
       "      <th>yogurt</th>\n",
       "      <th>zwieback</th>\n",
       "    </tr>\n",
       "    <tr>\n",
       "      <th>single_transaction</th>\n",
       "      <th></th>\n",
       "      <th></th>\n",
       "      <th></th>\n",
       "      <th></th>\n",
       "      <th></th>\n",
       "      <th></th>\n",
       "      <th></th>\n",
       "      <th></th>\n",
       "      <th></th>\n",
       "      <th></th>\n",
       "      <th></th>\n",
       "      <th></th>\n",
       "      <th></th>\n",
       "      <th></th>\n",
       "      <th></th>\n",
       "      <th></th>\n",
       "      <th></th>\n",
       "      <th></th>\n",
       "      <th></th>\n",
       "      <th></th>\n",
       "      <th></th>\n",
       "    </tr>\n",
       "  </thead>\n",
       "  <tbody>\n",
       "    <tr>\n",
       "      <th>1000_15-03-2015</th>\n",
       "      <td>0</td>\n",
       "      <td>0</td>\n",
       "      <td>0</td>\n",
       "      <td>0</td>\n",
       "      <td>0</td>\n",
       "      <td>0</td>\n",
       "      <td>0</td>\n",
       "      <td>0</td>\n",
       "      <td>0</td>\n",
       "      <td>0</td>\n",
       "      <td>...</td>\n",
       "      <td>0</td>\n",
       "      <td>0</td>\n",
       "      <td>0</td>\n",
       "      <td>0</td>\n",
       "      <td>0</td>\n",
       "      <td>0</td>\n",
       "      <td>0</td>\n",
       "      <td>1</td>\n",
       "      <td>1</td>\n",
       "      <td>0</td>\n",
       "    </tr>\n",
       "    <tr>\n",
       "      <th>1000_24-06-2014</th>\n",
       "      <td>0</td>\n",
       "      <td>0</td>\n",
       "      <td>0</td>\n",
       "      <td>0</td>\n",
       "      <td>0</td>\n",
       "      <td>0</td>\n",
       "      <td>0</td>\n",
       "      <td>0</td>\n",
       "      <td>0</td>\n",
       "      <td>0</td>\n",
       "      <td>...</td>\n",
       "      <td>0</td>\n",
       "      <td>0</td>\n",
       "      <td>0</td>\n",
       "      <td>0</td>\n",
       "      <td>0</td>\n",
       "      <td>0</td>\n",
       "      <td>0</td>\n",
       "      <td>1</td>\n",
       "      <td>0</td>\n",
       "      <td>0</td>\n",
       "    </tr>\n",
       "    <tr>\n",
       "      <th>1000_24-07-2015</th>\n",
       "      <td>0</td>\n",
       "      <td>0</td>\n",
       "      <td>0</td>\n",
       "      <td>0</td>\n",
       "      <td>0</td>\n",
       "      <td>0</td>\n",
       "      <td>0</td>\n",
       "      <td>0</td>\n",
       "      <td>0</td>\n",
       "      <td>0</td>\n",
       "      <td>...</td>\n",
       "      <td>0</td>\n",
       "      <td>0</td>\n",
       "      <td>0</td>\n",
       "      <td>0</td>\n",
       "      <td>0</td>\n",
       "      <td>0</td>\n",
       "      <td>0</td>\n",
       "      <td>0</td>\n",
       "      <td>0</td>\n",
       "      <td>0</td>\n",
       "    </tr>\n",
       "    <tr>\n",
       "      <th>1000_25-11-2015</th>\n",
       "      <td>0</td>\n",
       "      <td>0</td>\n",
       "      <td>0</td>\n",
       "      <td>0</td>\n",
       "      <td>0</td>\n",
       "      <td>0</td>\n",
       "      <td>0</td>\n",
       "      <td>0</td>\n",
       "      <td>0</td>\n",
       "      <td>0</td>\n",
       "      <td>...</td>\n",
       "      <td>0</td>\n",
       "      <td>0</td>\n",
       "      <td>0</td>\n",
       "      <td>0</td>\n",
       "      <td>0</td>\n",
       "      <td>0</td>\n",
       "      <td>0</td>\n",
       "      <td>0</td>\n",
       "      <td>0</td>\n",
       "      <td>0</td>\n",
       "    </tr>\n",
       "    <tr>\n",
       "      <th>1000_27-05-2015</th>\n",
       "      <td>0</td>\n",
       "      <td>0</td>\n",
       "      <td>0</td>\n",
       "      <td>0</td>\n",
       "      <td>0</td>\n",
       "      <td>0</td>\n",
       "      <td>0</td>\n",
       "      <td>0</td>\n",
       "      <td>0</td>\n",
       "      <td>0</td>\n",
       "      <td>...</td>\n",
       "      <td>0</td>\n",
       "      <td>0</td>\n",
       "      <td>0</td>\n",
       "      <td>0</td>\n",
       "      <td>0</td>\n",
       "      <td>0</td>\n",
       "      <td>0</td>\n",
       "      <td>0</td>\n",
       "      <td>0</td>\n",
       "      <td>0</td>\n",
       "    </tr>\n",
       "    <tr>\n",
       "      <th>...</th>\n",
       "      <td>...</td>\n",
       "      <td>...</td>\n",
       "      <td>...</td>\n",
       "      <td>...</td>\n",
       "      <td>...</td>\n",
       "      <td>...</td>\n",
       "      <td>...</td>\n",
       "      <td>...</td>\n",
       "      <td>...</td>\n",
       "      <td>...</td>\n",
       "      <td>...</td>\n",
       "      <td>...</td>\n",
       "      <td>...</td>\n",
       "      <td>...</td>\n",
       "      <td>...</td>\n",
       "      <td>...</td>\n",
       "      <td>...</td>\n",
       "      <td>...</td>\n",
       "      <td>...</td>\n",
       "      <td>...</td>\n",
       "      <td>...</td>\n",
       "    </tr>\n",
       "    <tr>\n",
       "      <th>4999_24-01-2015</th>\n",
       "      <td>0</td>\n",
       "      <td>0</td>\n",
       "      <td>0</td>\n",
       "      <td>0</td>\n",
       "      <td>0</td>\n",
       "      <td>0</td>\n",
       "      <td>0</td>\n",
       "      <td>0</td>\n",
       "      <td>0</td>\n",
       "      <td>1</td>\n",
       "      <td>...</td>\n",
       "      <td>0</td>\n",
       "      <td>0</td>\n",
       "      <td>0</td>\n",
       "      <td>0</td>\n",
       "      <td>0</td>\n",
       "      <td>0</td>\n",
       "      <td>0</td>\n",
       "      <td>0</td>\n",
       "      <td>1</td>\n",
       "      <td>0</td>\n",
       "    </tr>\n",
       "    <tr>\n",
       "      <th>4999_26-12-2015</th>\n",
       "      <td>0</td>\n",
       "      <td>0</td>\n",
       "      <td>0</td>\n",
       "      <td>0</td>\n",
       "      <td>0</td>\n",
       "      <td>0</td>\n",
       "      <td>0</td>\n",
       "      <td>0</td>\n",
       "      <td>0</td>\n",
       "      <td>0</td>\n",
       "      <td>...</td>\n",
       "      <td>0</td>\n",
       "      <td>0</td>\n",
       "      <td>0</td>\n",
       "      <td>0</td>\n",
       "      <td>0</td>\n",
       "      <td>0</td>\n",
       "      <td>0</td>\n",
       "      <td>0</td>\n",
       "      <td>0</td>\n",
       "      <td>0</td>\n",
       "    </tr>\n",
       "    <tr>\n",
       "      <th>5000_09-03-2014</th>\n",
       "      <td>0</td>\n",
       "      <td>0</td>\n",
       "      <td>0</td>\n",
       "      <td>0</td>\n",
       "      <td>0</td>\n",
       "      <td>0</td>\n",
       "      <td>0</td>\n",
       "      <td>0</td>\n",
       "      <td>0</td>\n",
       "      <td>0</td>\n",
       "      <td>...</td>\n",
       "      <td>0</td>\n",
       "      <td>0</td>\n",
       "      <td>0</td>\n",
       "      <td>0</td>\n",
       "      <td>0</td>\n",
       "      <td>0</td>\n",
       "      <td>0</td>\n",
       "      <td>0</td>\n",
       "      <td>0</td>\n",
       "      <td>0</td>\n",
       "    </tr>\n",
       "    <tr>\n",
       "      <th>5000_10-02-2015</th>\n",
       "      <td>0</td>\n",
       "      <td>0</td>\n",
       "      <td>0</td>\n",
       "      <td>0</td>\n",
       "      <td>0</td>\n",
       "      <td>0</td>\n",
       "      <td>0</td>\n",
       "      <td>0</td>\n",
       "      <td>0</td>\n",
       "      <td>0</td>\n",
       "      <td>...</td>\n",
       "      <td>0</td>\n",
       "      <td>0</td>\n",
       "      <td>0</td>\n",
       "      <td>0</td>\n",
       "      <td>0</td>\n",
       "      <td>0</td>\n",
       "      <td>0</td>\n",
       "      <td>0</td>\n",
       "      <td>0</td>\n",
       "      <td>0</td>\n",
       "    </tr>\n",
       "    <tr>\n",
       "      <th>5000_16-11-2014</th>\n",
       "      <td>0</td>\n",
       "      <td>0</td>\n",
       "      <td>0</td>\n",
       "      <td>0</td>\n",
       "      <td>0</td>\n",
       "      <td>0</td>\n",
       "      <td>0</td>\n",
       "      <td>0</td>\n",
       "      <td>0</td>\n",
       "      <td>0</td>\n",
       "      <td>...</td>\n",
       "      <td>0</td>\n",
       "      <td>0</td>\n",
       "      <td>0</td>\n",
       "      <td>0</td>\n",
       "      <td>0</td>\n",
       "      <td>0</td>\n",
       "      <td>0</td>\n",
       "      <td>0</td>\n",
       "      <td>0</td>\n",
       "      <td>0</td>\n",
       "    </tr>\n",
       "  </tbody>\n",
       "</table>\n",
       "<p>14963 rows × 167 columns</p>\n",
       "</div>"
      ],
      "text/plain": [
       "itemDescription     Instant food products  UHT-milk  abrasive cleaner  \\\n",
       "single_transaction                                                      \n",
       "1000_15-03-2015                         0         0                 0   \n",
       "1000_24-06-2014                         0         0                 0   \n",
       "1000_24-07-2015                         0         0                 0   \n",
       "1000_25-11-2015                         0         0                 0   \n",
       "1000_27-05-2015                         0         0                 0   \n",
       "...                                   ...       ...               ...   \n",
       "4999_24-01-2015                         0         0                 0   \n",
       "4999_26-12-2015                         0         0                 0   \n",
       "5000_09-03-2014                         0         0                 0   \n",
       "5000_10-02-2015                         0         0                 0   \n",
       "5000_16-11-2014                         0         0                 0   \n",
       "\n",
       "itemDescription     artif. sweetener  baby cosmetics  bags  baking powder  \\\n",
       "single_transaction                                                          \n",
       "1000_15-03-2015                    0               0     0              0   \n",
       "1000_24-06-2014                    0               0     0              0   \n",
       "1000_24-07-2015                    0               0     0              0   \n",
       "1000_25-11-2015                    0               0     0              0   \n",
       "1000_27-05-2015                    0               0     0              0   \n",
       "...                              ...             ...   ...            ...   \n",
       "4999_24-01-2015                    0               0     0              0   \n",
       "4999_26-12-2015                    0               0     0              0   \n",
       "5000_09-03-2014                    0               0     0              0   \n",
       "5000_10-02-2015                    0               0     0              0   \n",
       "5000_16-11-2014                    0               0     0              0   \n",
       "\n",
       "itemDescription     bathroom cleaner  beef  berries  ...  turkey  vinegar  \\\n",
       "single_transaction                                   ...                    \n",
       "1000_15-03-2015                    0     0        0  ...       0        0   \n",
       "1000_24-06-2014                    0     0        0  ...       0        0   \n",
       "1000_24-07-2015                    0     0        0  ...       0        0   \n",
       "1000_25-11-2015                    0     0        0  ...       0        0   \n",
       "1000_27-05-2015                    0     0        0  ...       0        0   \n",
       "...                              ...   ...      ...  ...     ...      ...   \n",
       "4999_24-01-2015                    0     0        1  ...       0        0   \n",
       "4999_26-12-2015                    0     0        0  ...       0        0   \n",
       "5000_09-03-2014                    0     0        0  ...       0        0   \n",
       "5000_10-02-2015                    0     0        0  ...       0        0   \n",
       "5000_16-11-2014                    0     0        0  ...       0        0   \n",
       "\n",
       "itemDescription     waffles  whipped/sour cream  whisky  white bread  \\\n",
       "single_transaction                                                     \n",
       "1000_15-03-2015           0                   0       0            0   \n",
       "1000_24-06-2014           0                   0       0            0   \n",
       "1000_24-07-2015           0                   0       0            0   \n",
       "1000_25-11-2015           0                   0       0            0   \n",
       "1000_27-05-2015           0                   0       0            0   \n",
       "...                     ...                 ...     ...          ...   \n",
       "4999_24-01-2015           0                   0       0            0   \n",
       "4999_26-12-2015           0                   0       0            0   \n",
       "5000_09-03-2014           0                   0       0            0   \n",
       "5000_10-02-2015           0                   0       0            0   \n",
       "5000_16-11-2014           0                   0       0            0   \n",
       "\n",
       "itemDescription     white wine  whole milk  yogurt  zwieback  \n",
       "single_transaction                                            \n",
       "1000_15-03-2015              0           1       1         0  \n",
       "1000_24-06-2014              0           1       0         0  \n",
       "1000_24-07-2015              0           0       0         0  \n",
       "1000_25-11-2015              0           0       0         0  \n",
       "1000_27-05-2015              0           0       0         0  \n",
       "...                        ...         ...     ...       ...  \n",
       "4999_24-01-2015              0           0       1         0  \n",
       "4999_26-12-2015              0           0       0         0  \n",
       "5000_09-03-2014              0           0       0         0  \n",
       "5000_10-02-2015              0           0       0         0  \n",
       "5000_16-11-2014              0           0       0         0  \n",
       "\n",
       "[14963 rows x 167 columns]"
      ]
     },
     "execution_count": 21,
     "metadata": {},
     "output_type": "execute_result"
    }
   ],
   "source": [
    "ma2 = pd.crosstab(ma['single_transaction'], ma['itemDescription'])\n",
    "ma2"
   ]
  },
  {
   "cell_type": "markdown",
   "id": "cf06d5fe",
   "metadata": {},
   "source": [
    "The resulting table tells us how many times each item has been purchased in one transaction:\n",
    "\n",
    "There are over a hundred columns while most people only shop for 2-3 items, which is why this table is sparse and mostly comprised of zeroes."
   ]
  },
  {
   "cell_type": "markdown",
   "id": "95a758ca",
   "metadata": {},
   "source": [
    "The final data pre-processing step involves encoding all values in the above data frame to 0 and 1.\n",
    "\n",
    "This means that even if there are multiples of the same item in the same transaction, the value will be encoded to 1 since market basket analysis does not take purchase frequency into consideration."
   ]
  },
  {
   "cell_type": "code",
   "execution_count": 22,
   "id": "1b9e48bb",
   "metadata": {},
   "outputs": [],
   "source": [
    "def encode(item_freq):\n",
    "    res = 0\n",
    "    if item_freq > 0:\n",
    "        res = 1\n",
    "    return res\n",
    "    \n",
    "basket_input = ma2.applymap(encode)"
   ]
  },
  {
   "cell_type": "markdown",
   "id": "bd98cde2",
   "metadata": {},
   "source": [
    "Installing mlxtend"
   ]
  },
  {
   "cell_type": "code",
   "execution_count": 23,
   "id": "907c88bb",
   "metadata": {
    "scrolled": true
   },
   "outputs": [
    {
     "name": "stdout",
     "output_type": "stream",
     "text": [
      "Requirement already satisfied: mlxtend in c:\\users\\baliqees\\anaconda3\\lib\\site-packages (0.23.0)Note: you may need to restart the kernel to use updated packages.\n",
      "Requirement already satisfied: numpy>=1.16.2 in c:\\users\\baliqees\\anaconda3\\lib\\site-packages (from mlxtend) (1.20.3)\n",
      "Requirement already satisfied: scipy>=1.2.1 in c:\\users\\baliqees\\anaconda3\\lib\\site-packages (from mlxtend) (1.7.1)\n",
      "Requirement already satisfied: matplotlib>=3.0.0 in c:\\users\\baliqees\\anaconda3\\lib\\site-packages (from mlxtend) (3.4.3)\n",
      "Requirement already satisfied: joblib>=0.13.2 in c:\\users\\baliqees\\anaconda3\\lib\\site-packages (from mlxtend) (1.3.2)\n",
      "Requirement already satisfied: pandas>=0.24.2 in c:\\users\\baliqees\\anaconda3\\lib\\site-packages (from mlxtend) (1.3.4)\n",
      "Requirement already satisfied: scikit-learn>=1.0.2 in c:\\users\\baliqees\\anaconda3\\lib\\site-packages (from mlxtend) (1.3.2)\n",
      "Requirement already satisfied: python-dateutil>=2.7 in c:\\users\\baliqees\\anaconda3\\lib\\site-packages (from matplotlib>=3.0.0->mlxtend) (2.8.2)\n",
      "Requirement already satisfied: cycler>=0.10 in c:\\users\\baliqees\\anaconda3\\lib\\site-packages (from matplotlib>=3.0.0->mlxtend) (0.10.0)\n",
      "Requirement already satisfied: pyparsing>=2.2.1 in c:\\users\\baliqees\\anaconda3\\lib\\site-packages (from matplotlib>=3.0.0->mlxtend) (3.0.4)\n",
      "Requirement already satisfied: kiwisolver>=1.0.1 in c:\\users\\baliqees\\anaconda3\\lib\\site-packages (from matplotlib>=3.0.0->mlxtend) (1.3.1)\n",
      "Requirement already satisfied: pillow>=6.2.0 in c:\\users\\baliqees\\anaconda3\\lib\\site-packages (from matplotlib>=3.0.0->mlxtend) (8.4.0)\n",
      "Requirement already satisfied: six in c:\\users\\baliqees\\anaconda3\\lib\\site-packages (from cycler>=0.10->matplotlib>=3.0.0->mlxtend) (1.16.0)\n",
      "Requirement already satisfied: pytz>=2017.3 in c:\\users\\baliqees\\anaconda3\\lib\\site-packages (from pandas>=0.24.2->mlxtend) (2021.3)\n",
      "Requirement already satisfied: threadpoolctl>=2.0.0 in c:\\users\\baliqees\\anaconda3\\lib\\site-packages (from scikit-learn>=1.0.2->mlxtend) (2.2.0)\n",
      "\n"
     ]
    }
   ],
   "source": [
    "pip install mlxtend  "
   ]
  },
  {
   "cell_type": "markdown",
   "id": "f4386fbf",
   "metadata": {},
   "source": [
    "# Build the Apriori Algorithm for Market Basket Analysis"
   ]
  },
  {
   "cell_type": "code",
   "execution_count": 46,
   "id": "97b3ea6c",
   "metadata": {
    "scrolled": false
   },
   "outputs": [
    {
     "name": "stderr",
     "output_type": "stream",
     "text": [
      "C:\\Users\\Baliqees\\anaconda3\\lib\\site-packages\\mlxtend\\frequent_patterns\\fpcommon.py:110: DeprecationWarning: DataFrames with non-bool types result in worse computationalperformance and their support might be discontinued in the future.Please use a DataFrame with bool type\n",
      "  warnings.warn(\n"
     ]
    },
    {
     "data": {
      "text/html": [
       "<div>\n",
       "<style scoped>\n",
       "    .dataframe tbody tr th:only-of-type {\n",
       "        vertical-align: middle;\n",
       "    }\n",
       "\n",
       "    .dataframe tbody tr th {\n",
       "        vertical-align: top;\n",
       "    }\n",
       "\n",
       "    .dataframe thead th {\n",
       "        text-align: right;\n",
       "    }\n",
       "</style>\n",
       "<table border=\"1\" class=\"dataframe\">\n",
       "  <thead>\n",
       "    <tr style=\"text-align: right;\">\n",
       "      <th></th>\n",
       "      <th>antecedents</th>\n",
       "      <th>consequents</th>\n",
       "      <th>antecedent support</th>\n",
       "      <th>consequent support</th>\n",
       "      <th>support</th>\n",
       "      <th>confidence</th>\n",
       "      <th>lift</th>\n",
       "      <th>leverage</th>\n",
       "      <th>conviction</th>\n",
       "      <th>zhangs_metric</th>\n",
       "    </tr>\n",
       "  </thead>\n",
       "  <tbody>\n",
       "    <tr>\n",
       "      <th>0</th>\n",
       "      <td>(rolls/buns)</td>\n",
       "      <td>(whole milk)</td>\n",
       "      <td>0.110005</td>\n",
       "      <td>0.157923</td>\n",
       "      <td>0.013968</td>\n",
       "      <td>0.126974</td>\n",
       "      <td>0.804028</td>\n",
       "      <td>-0.003404</td>\n",
       "      <td>0.964550</td>\n",
       "      <td>-0.214986</td>\n",
       "    </tr>\n",
       "    <tr>\n",
       "      <th>1</th>\n",
       "      <td>(whole milk)</td>\n",
       "      <td>(rolls/buns)</td>\n",
       "      <td>0.157923</td>\n",
       "      <td>0.110005</td>\n",
       "      <td>0.013968</td>\n",
       "      <td>0.088447</td>\n",
       "      <td>0.804028</td>\n",
       "      <td>-0.003404</td>\n",
       "      <td>0.976350</td>\n",
       "      <td>-0.224474</td>\n",
       "    </tr>\n",
       "    <tr>\n",
       "      <th>2</th>\n",
       "      <td>(yogurt)</td>\n",
       "      <td>(whole milk)</td>\n",
       "      <td>0.085879</td>\n",
       "      <td>0.157923</td>\n",
       "      <td>0.011161</td>\n",
       "      <td>0.129961</td>\n",
       "      <td>0.822940</td>\n",
       "      <td>-0.002401</td>\n",
       "      <td>0.967861</td>\n",
       "      <td>-0.190525</td>\n",
       "    </tr>\n",
       "    <tr>\n",
       "      <th>3</th>\n",
       "      <td>(whole milk)</td>\n",
       "      <td>(yogurt)</td>\n",
       "      <td>0.157923</td>\n",
       "      <td>0.085879</td>\n",
       "      <td>0.011161</td>\n",
       "      <td>0.070673</td>\n",
       "      <td>0.822940</td>\n",
       "      <td>-0.002401</td>\n",
       "      <td>0.983638</td>\n",
       "      <td>-0.203508</td>\n",
       "    </tr>\n",
       "  </tbody>\n",
       "</table>\n",
       "</div>"
      ],
      "text/plain": [
       "    antecedents   consequents  antecedent support  consequent support  \\\n",
       "0  (rolls/buns)  (whole milk)            0.110005            0.157923   \n",
       "1  (whole milk)  (rolls/buns)            0.157923            0.110005   \n",
       "2      (yogurt)  (whole milk)            0.085879            0.157923   \n",
       "3  (whole milk)      (yogurt)            0.157923            0.085879   \n",
       "\n",
       "    support  confidence      lift  leverage  conviction  zhangs_metric  \n",
       "0  0.013968    0.126974  0.804028 -0.003404    0.964550      -0.214986  \n",
       "1  0.013968    0.088447  0.804028 -0.003404    0.976350      -0.224474  \n",
       "2  0.011161    0.129961  0.822940 -0.002401    0.967861      -0.190525  \n",
       "3  0.011161    0.070673  0.822940 -0.002401    0.983638      -0.203508  "
      ]
     },
     "execution_count": 46,
     "metadata": {},
     "output_type": "execute_result"
    }
   ],
   "source": [
    "from mlxtend.frequent_patterns import apriori\n",
    "from mlxtend.frequent_patterns import association_rules\n",
    "\n",
    "frequent_itemsets = apriori(basket_input, min_support=0.01, use_colnames=True)\n",
    "\n",
    "rules = association_rules(frequent_itemsets, metric=\"lift\")\n",
    "\n",
    "rules.head()"
   ]
  },
  {
   "cell_type": "markdown",
   "id": "086eb35c",
   "metadata": {},
   "source": [
    "from the table above, the “antecedents” and “consequents” columns shows items that are frequently purchased together.\n",
    "For example, first row of the dataset tells us that if a person were to buy bottled water, then they are also likely to purchase UHT-milk."
   ]
  },
  {
   "cell_type": "markdown",
   "id": "539d089a",
   "metadata": {},
   "source": [
    "To get the most frequent item combinations in the entire dataset, let’s sort the dataset by support, confidence, and lift:"
   ]
  },
  {
   "cell_type": "code",
   "execution_count": 42,
   "id": "dd97280e",
   "metadata": {
    "scrolled": true
   },
   "outputs": [
    {
     "data": {
      "text/html": [
       "<div>\n",
       "<style scoped>\n",
       "    .dataframe tbody tr th:only-of-type {\n",
       "        vertical-align: middle;\n",
       "    }\n",
       "\n",
       "    .dataframe tbody tr th {\n",
       "        vertical-align: top;\n",
       "    }\n",
       "\n",
       "    .dataframe thead th {\n",
       "        text-align: right;\n",
       "    }\n",
       "</style>\n",
       "<table border=\"1\" class=\"dataframe\">\n",
       "  <thead>\n",
       "    <tr style=\"text-align: right;\">\n",
       "      <th></th>\n",
       "      <th>antecedents</th>\n",
       "      <th>consequents</th>\n",
       "      <th>antecedent support</th>\n",
       "      <th>consequent support</th>\n",
       "      <th>support</th>\n",
       "      <th>confidence</th>\n",
       "      <th>lift</th>\n",
       "      <th>leverage</th>\n",
       "      <th>conviction</th>\n",
       "      <th>zhangs_metric</th>\n",
       "    </tr>\n",
       "  </thead>\n",
       "  <tbody>\n",
       "    <tr>\n",
       "      <th>0</th>\n",
       "      <td>(rolls/buns)</td>\n",
       "      <td>(whole milk)</td>\n",
       "      <td>0.110005</td>\n",
       "      <td>0.157923</td>\n",
       "      <td>0.013968</td>\n",
       "      <td>0.126974</td>\n",
       "      <td>0.804028</td>\n",
       "      <td>-0.003404</td>\n",
       "      <td>0.964550</td>\n",
       "      <td>-0.214986</td>\n",
       "    </tr>\n",
       "    <tr>\n",
       "      <th>1</th>\n",
       "      <td>(whole milk)</td>\n",
       "      <td>(rolls/buns)</td>\n",
       "      <td>0.157923</td>\n",
       "      <td>0.110005</td>\n",
       "      <td>0.013968</td>\n",
       "      <td>0.088447</td>\n",
       "      <td>0.804028</td>\n",
       "      <td>-0.003404</td>\n",
       "      <td>0.976350</td>\n",
       "      <td>-0.224474</td>\n",
       "    </tr>\n",
       "    <tr>\n",
       "      <th>2</th>\n",
       "      <td>(yogurt)</td>\n",
       "      <td>(whole milk)</td>\n",
       "      <td>0.085879</td>\n",
       "      <td>0.157923</td>\n",
       "      <td>0.011161</td>\n",
       "      <td>0.129961</td>\n",
       "      <td>0.822940</td>\n",
       "      <td>-0.002401</td>\n",
       "      <td>0.967861</td>\n",
       "      <td>-0.190525</td>\n",
       "    </tr>\n",
       "    <tr>\n",
       "      <th>3</th>\n",
       "      <td>(whole milk)</td>\n",
       "      <td>(yogurt)</td>\n",
       "      <td>0.157923</td>\n",
       "      <td>0.085879</td>\n",
       "      <td>0.011161</td>\n",
       "      <td>0.070673</td>\n",
       "      <td>0.822940</td>\n",
       "      <td>-0.002401</td>\n",
       "      <td>0.983638</td>\n",
       "      <td>-0.203508</td>\n",
       "    </tr>\n",
       "  </tbody>\n",
       "</table>\n",
       "</div>"
      ],
      "text/plain": [
       "    antecedents   consequents  antecedent support  consequent support  \\\n",
       "0  (rolls/buns)  (whole milk)            0.110005            0.157923   \n",
       "1  (whole milk)  (rolls/buns)            0.157923            0.110005   \n",
       "2      (yogurt)  (whole milk)            0.085879            0.157923   \n",
       "3  (whole milk)      (yogurt)            0.157923            0.085879   \n",
       "\n",
       "    support  confidence      lift  leverage  conviction  zhangs_metric  \n",
       "0  0.013968    0.126974  0.804028 -0.003404    0.964550      -0.214986  \n",
       "1  0.013968    0.088447  0.804028 -0.003404    0.976350      -0.224474  \n",
       "2  0.011161    0.129961  0.822940 -0.002401    0.967861      -0.190525  \n",
       "3  0.011161    0.070673  0.822940 -0.002401    0.983638      -0.203508  "
      ]
     },
     "execution_count": 42,
     "metadata": {},
     "output_type": "execute_result"
    }
   ],
   "source": [
    "rules.sort_values([\"support\", \"confidence\",\"lift\"],axis = 0, ascending = False).head(10)"
   ]
  },
  {
   "cell_type": "markdown",
   "id": "ee5b2656",
   "metadata": {},
   "source": [
    "The resulting table shows that the four most popular product combinations that are frequently bought together are:\n",
    "\n",
    "Rolls and milk\n",
    "\n",
    "Yogurt and milk\n",
    "\n",
    "Sausages and milk\n",
    "\n",
    "Soda and vegetables"
   ]
  },
  {
   "cell_type": "markdown",
   "id": "953f42f0",
   "metadata": {},
   "source": [
    "from the above, Rolls, Milk, Yogurt, Sausages etc should be place close to one another, inorder to increase sales/Profit"
   ]
  },
  {
   "cell_type": "markdown",
   "id": "25633c8b",
   "metadata": {},
   "source": [
    "# Conclusion\n",
    "We successfully implemented market basket analysis on a retail dataset using the apriori algorithm and association rules. The great part of this process is that it is relatively easy to implement and interpret, the result of which can be used to make data-driven, strategic marketing decisions. "
   ]
  },
  {
   "cell_type": "code",
   "execution_count": null,
   "id": "46bdd41f",
   "metadata": {},
   "outputs": [],
   "source": []
  },
  {
   "cell_type": "code",
   "execution_count": null,
   "id": "a953141a",
   "metadata": {},
   "outputs": [],
   "source": []
  },
  {
   "cell_type": "code",
   "execution_count": null,
   "id": "795c3366",
   "metadata": {},
   "outputs": [],
   "source": []
  }
 ],
 "metadata": {
  "kernelspec": {
   "display_name": "Python 3 (ipykernel)",
   "language": "python",
   "name": "python3"
  },
  "language_info": {
   "codemirror_mode": {
    "name": "ipython",
    "version": 3
   },
   "file_extension": ".py",
   "mimetype": "text/x-python",
   "name": "python",
   "nbconvert_exporter": "python",
   "pygments_lexer": "ipython3",
   "version": "3.9.7"
  }
 },
 "nbformat": 4,
 "nbformat_minor": 5
}
